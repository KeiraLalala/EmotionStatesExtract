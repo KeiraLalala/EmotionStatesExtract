{
 "cells": [
  {
   "cell_type": "code",
   "execution_count": 1,
   "id": "9676ff29",
   "metadata": {},
   "outputs": [],
   "source": [
    "import os\n",
    "import glob as gb"
   ]
  },
  {
   "cell_type": "code",
   "execution_count": null,
   "id": "e8daf393",
   "metadata": {},
   "outputs": [],
   "source": []
  },
  {
   "cell_type": "code",
   "execution_count": 4,
   "id": "a9f81b56",
   "metadata": {},
   "outputs": [
    {
     "name": "stdout",
     "output_type": "stream",
     "text": [
      "video: EP03_04.txt\n",
      "../CASME-II/Cropped/12/EP03_04reg_img60.jpg ../CASME-II/Cropped/12/EP03_04reg_img129.jpg ../CASME-II/Cropped/12/EP03_04reg_img156.jpg\n"
     ]
    }
   ],
   "source": [
    "EmotSta_path = '../Dataset_EmotSta'\n",
    "for Dataset in ['CASMEII']: #'SAMM','SMIC'\n",
    "    sub_path = os.path.join(EmotSta_path, Dataset, '*')\n",
    "    sub_list = gb.glob(sub_path)\n",
    "    for sub in sub_list[:1]:\n",
    "        vid_list = gb.glob(os.path.join(sub,'*'))\n",
    "        for video in vid_list[:1]:\n",
    "            [onset, apex, offset] = open(video).read().split('\\n')[:-1]\n",
    "            print('video:', video.split('/')[-1])\n",
    "            print(onset, apex, offset)"
   ]
  }
 ],
 "metadata": {
  "kernelspec": {
   "display_name": "py3.7",
   "language": "python",
   "name": "py3.7"
  },
  "language_info": {
   "codemirror_mode": {
    "name": "ipython",
    "version": 3
   },
   "file_extension": ".py",
   "mimetype": "text/x-python",
   "name": "python",
   "nbconvert_exporter": "python",
   "pygments_lexer": "ipython3",
   "version": "3.7.12"
  }
 },
 "nbformat": 4,
 "nbformat_minor": 5
}
